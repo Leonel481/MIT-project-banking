{
 "cells": [
  {
   "cell_type": "code",
   "execution_count": null,
   "id": "00f31c09",
   "metadata": {},
   "outputs": [],
   "source": [
    "import joblib\n",
    "import pandas as pd\n",
    "import numpy as np\n",
    "import os"
   ]
  },
  {
   "cell_type": "code",
   "execution_count": null,
   "id": "5e17a28f",
   "metadata": {},
   "outputs": [],
   "source": [
    "data = pd.read_csv('../Data/datos_sinteticos_inferencia2.csv')"
   ]
  },
  {
   "cell_type": "code",
   "execution_count": null,
   "id": "ec9c2ebc",
   "metadata": {},
   "outputs": [],
   "source": [
    "# Definiendo variables nan y categoricas\n",
    "var_nan = ['prev_address_months_count','current_address_months_count','intended_balcon_amount',\n",
    "           'bank_months_count','session_length_in_minutes','device_distinct_emails_8w']\n",
    "\n",
    "# Ingenieria de variables\n",
    "data[var_nan] = data[var_nan].replace(-1, np.nan).astype('float')\n",
    "\n",
    "data['prev_address_valid'] = np.where(data['prev_address_months_count'] > 0,1,0)\n",
    "data['velocity_6h'] = np.where(data['velocity_6h'] <= 0,data[\"velocity_6h\"].quantile(0.25),data[\"velocity_6h\"])\n",
    "data['ratio_velocity_6h_24h'] = data['velocity_6h']/data['velocity_24h']\n",
    "data['ratio_velocity_24h_4w'] = data['velocity_24h']/data['velocity_4w']\n",
    "data['log_bank_branch_count_8w'] = np.log1p(data['bank_branch_count_8w'])\n",
    "data['log_days_since_request'] = np.log1p(data['days_since_request'])\n",
    "data['prev_bank_months_count'] = np.where(data['bank_months_count'] <=0, 0, 1)\n",
    "data['income_risk_score'] = data['income']*data['credit_risk_score']\n",
    "data['rel_income_credit'] = data['income'] / data ['proposed_credit_limit']\n",
    "data['age_at_account_opening'] = data['customer_age'] - (data['bank_months_count'] / 12)\n",
    "data['credit_per_income'] = data['proposed_credit_limit'] / data['income']\n",
    "data['zip_branch_ratio'] = data['zip_count_4w'] / (data['bank_branch_count_8w'] +1)\n",
    "data['is_young_high_credit'] = np.where((data['customer_age'] < 30) & (data['proposed_credit_limit'] > 1700), 1, 0)\n",
    "data['is_high_risk_low_income'] = np.where((data['credit_risk_score'] > 200) & (data['income'] < 0.3), 1, 0)\n",
    "\n",
    "\n",
    "data = data.drop(columns = ['device_fraud_count','month','prev_address_months_count',\n",
    "                            # 'intended_balcon_amount', 'source'\n",
    "                            ])"
   ]
  },
  {
   "cell_type": "code",
   "execution_count": null,
   "id": "6cbe1046",
   "metadata": {},
   "outputs": [],
   "source": [
    "encoder = joblib.load('../Data/encoder.joblib')\n",
    "tuned_model = joblib.load('../Data/tuned_model.joblib')"
   ]
  },
  {
   "cell_type": "code",
   "execution_count": null,
   "id": "6fef6c27",
   "metadata": {},
   "outputs": [],
   "source": [
    "cat_features = data.select_dtypes(include=['object']).columns.tolist()\n",
    "\n",
    "encoder_features_test = encoder.transform(data[cat_features])\n",
    "data_encode = pd.DataFrame(encoder_features_test, columns=encoder.get_feature_names_out(cat_features))\n",
    "data_f = pd.concat([data.drop(columns=cat_features), data_encode], axis=1)"
   ]
  },
  {
   "cell_type": "code",
   "execution_count": null,
   "id": "5d72643b",
   "metadata": {},
   "outputs": [],
   "source": [
    "# Realizar inferencias\n",
    "y_pred_proba = tuned_model.predict_proba(data_f)[:, 1]\n",
    "\n",
    "t_low_opt = 0.039230769230769236\n",
    "t_high_opt = 0.0576271186440678\n",
    "\n",
    "data_f['proba'] = y_pred_proba\n",
    "data_f['category'] = \"NO_FRAUDE\" \n",
    "data_f.loc[(y_pred_proba < t_high_opt) & (y_pred_proba >= t_low_opt), 'category'] = \"REVISIÓN\"\n",
    "data_f.loc[y_pred_proba >= t_high_opt, 'category'] = \"FRAUDE\"\n",
    "\n",
    "current_time = pd.to_datetime('now').floor('s')\n",
    "data_f['date'] = current_time\n",
    "\n",
    "# Solo para agregar una hora y simular que los datos no son todos del mismo instante\n",
    "data_f['date'] = data_f['date'] + pd.to_timedelta(1, unit='h')\n",
    "\n",
    "\n",
    "\n",
    "data_f['date'] = data_f['date'].dt.strftime('%Y-%m-%d %H:%M:%S')\n",
    "\n",
    "results_df = pd.DataFrame({\n",
    "    'proba': data_f['proba'],\n",
    "    'category': data_f['category'],\n",
    "    't_high_opt': t_high_opt,\n",
    "    't_low_opt': t_low_opt,\n",
    "    'date': data_f['date']\n",
    "})"
   ]
  },
  {
   "cell_type": "code",
   "execution_count": null,
   "id": "0a51ba87",
   "metadata": {},
   "outputs": [],
   "source": [
    "results_df.to_csv('../Data/inference_results2.csv', index=False)"
   ]
  },
  {
   "cell_type": "code",
   "execution_count": null,
   "id": "e68313c4",
   "metadata": {},
   "outputs": [],
   "source": [
    "data_r = pd.read_csv('../Data/inference_results.csv')\n",
    "data_r2 = pd.read_csv('../Data/inference_results2.csv')\n",
    "\n",
    "data_rf = pd.concat([data_r, data_r2], axis=0)\n",
    "data_rf.to_csv('../Data/inference_results_full.csv', index=False)"
   ]
  }
 ],
 "metadata": {
  "language_info": {
   "name": "python"
  }
 },
 "nbformat": 4,
 "nbformat_minor": 5
}
